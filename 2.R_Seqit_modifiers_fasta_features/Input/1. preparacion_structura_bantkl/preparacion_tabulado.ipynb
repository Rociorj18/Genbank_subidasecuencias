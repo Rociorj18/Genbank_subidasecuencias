{
  "nbformat": 4,
  "nbformat_minor": 0,
  "metadata": {
    "colab": {
      "provenance": []
    },
    "kernelspec": {
      "name": "python3",
      "display_name": "Python 3"
    },
    "language_info": {
      "name": "python"
    }
  },
  "cells": [
    {
      "cell_type": "markdown",
      "source": [
        "# **Script para el manejo de tabulado:**\n",
        "\n",
        "Si el tabulado en una linea no es 5 te dice donde y cuanto de tabulado hay. Si no sale nada es que está todo bien tabulado."
      ],
      "metadata": {
        "id": "UkG9bROr6Qz1"
      }
    },
    {
      "cell_type": "code",
      "execution_count": 9,
      "metadata": {
        "colab": {
          "base_uri": "https://localhost:8080/"
        },
        "id": "dSI7UdPj6NDB",
        "outputId": "588af6ee-be8a-4435-86d5-c245f61d8034"
      },
      "outputs": [
        {
          "output_type": "stream",
          "name": "stdout",
          "text": [
            "Línea 1: Número de tabulados = \u001b[1m6\u001b[0m\n"
          ]
        }
      ],
      "source": [
        "############### Script_contaje_tabulado ##########################\n",
        "\n",
        "# Además te dice donde se encuentra, fijarse mucho en el final que siempre suele haber de más.\n",
        "\n",
        "# Nombre del archivo\n",
        "nombre_archivo = \"/content/data.txt\"\n",
        "\n",
        "# Número de tabulaciones deseado\n",
        "num_tabulaciones_deseado = 5\n",
        "\n",
        "# Abrir el archivo en modo de lectura\n",
        "with open(nombre_archivo, \"r\") as archivo:\n",
        "    # Leer el archivo línea por línea\n",
        "    for linea_numero, linea in enumerate(archivo, start=1):\n",
        "        # Contar el número de tabulaciones en la línea\n",
        "        num_tabulados = linea.count('\\t')\n",
        "\n",
        "        # Verificar si el número de tabulaciones es diferente al deseado\n",
        "        if num_tabulados != num_tabulaciones_deseado:\n",
        "            # Imprimir la línea con el número de tabulaciones destacado en negrita\n",
        "            print(f\"Línea {linea_numero}: Número de tabulados = \\033[1m{num_tabulados}\\033[0m\")\n",
        ""
      ]
    }
  ]
}