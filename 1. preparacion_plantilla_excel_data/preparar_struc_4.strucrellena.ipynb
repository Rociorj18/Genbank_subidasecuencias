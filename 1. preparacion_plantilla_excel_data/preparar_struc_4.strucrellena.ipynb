{
  "nbformat": 4,
  "nbformat_minor": 0,
  "metadata": {
    "colab": {
      "provenance": []
    },
    "kernelspec": {
      "name": "python3",
      "display_name": "Python 3"
    },
    "language_info": {
      "name": "python"
    }
  },
  "cells": [
    {
      "cell_type": "markdown",
      "source": [
        "**Estos chunks se utilizan para preparar la estructura del excel que pasará a data (al guardarlo como txt (UTF-8)).**\n",
        "\n",
        "Lo que hace es acceder a la columna localitation y modificar su estructura dejandola como Spain: BLA BLA BLA"
      ],
      "metadata": {
        "id": "ioRLTMZ52jPh"
      }
    },
    {
      "cell_type": "code",
      "execution_count": null,
      "metadata": {
        "id": "cCzPc3U-znPD"
      },
      "outputs": [],
      "source": [
        "######## AÑADIR Spain: LOCALIZACION ##########\n",
        "# Añadir Spain: al principio y eliminarlo del final.\n",
        "# Instala la biblioteca openpyxl si aún no está instalada\n",
        "!pip install openpyxl\n",
        "\n",
        "# Importa la biblioteca openpyxl\n",
        "import openpyxl\n",
        "\n",
        "# Ruta al archivo Excel de entrada y salida\n",
        "input_path = '/content/basejardin_fastamatrix.xlsx'  # Cambia esto por la ruta a tu archivo Excel de entrada\n",
        "output_path = '/content/prueba_basejardin_fastamatrix.xlsx'  # Cambia esto por la ruta donde deseas guardar el nuevo archivo Excel\n",
        "\n",
        "# Abre el archivo Excel de entrada\n",
        "workbook = openpyxl.load_workbook(input_path)\n",
        "\n",
        "# Selecciona la hoja de trabajo que contiene los datos\n",
        "hoja = workbook.active  # O puedes seleccionar una hoja específica usando workbook['nombre_de_la_hoja']\n",
        "\n",
        "# Especifica la letra de la columna que deseas modificar (por ejemplo, columna F)\n",
        "letra_columna = 'F'  # Cambia esto a la letra de la columna que deseas modificar (por ejemplo, 'A', 'B', 'C', etc.)\n",
        "\n",
        "# Crear un nuevo libro de Excel para guardar los cambios\n",
        "nuevo_workbook = openpyxl.Workbook()\n",
        "nueva_hoja = nuevo_workbook.active\n",
        "\n",
        "# Itera sobre todas las filas de la columna especificada y modifica su contenido\n",
        "for fila in range(1, hoja.max_row + 1):\n",
        "    celda = hoja[letra_columna + str(fila)]  # Selecciona la celda en la fila actual\n",
        "    valor = celda.value\n",
        "    if valor:  # Verifica si la celda no está vacía\n",
        "        # Agrega 'Spain:' al principio del texto y elimina 'Spain' del final\n",
        "        nuevo_valor = 'Spain: ' + valor.replace('Spain', '').strip()\n",
        "        nueva_hoja.cell(row=fila, column=1, value=nuevo_valor)\n",
        "\n",
        "# Guarda los cambios en el nuevo archivo Excel\n",
        "nuevo_workbook.save(output_path)\n"
      ]
    }
  ]
}