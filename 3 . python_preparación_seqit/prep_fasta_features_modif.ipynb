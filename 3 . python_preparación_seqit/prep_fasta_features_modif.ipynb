{
  "nbformat": 4,
  "nbformat_minor": 0,
  "metadata": {
    "colab": {
      "provenance": []
    },
    "kernelspec": {
      "name": "python3",
      "display_name": "Python 3"
    },
    "language_info": {
      "name": "python"
    }
  },
  "cells": [
    {
      "cell_type": "markdown",
      "source": [
        "# Preparacion de archivos features, fasta y modifiers"
      ],
      "metadata": {
        "id": "J1Tj9jWCAz0u"
      }
    },
    {
      "cell_type": "markdown",
      "source": [
        "## FEATURES\n"
      ],
      "metadata": {
        "id": "jI2ELE4RBR5L"
      }
    },
    {
      "cell_type": "code",
      "source": [
        "################## añadir al feautres seqX_vial\n",
        "\n",
        "### este es para eliminar el nombre y dejar solo el vial\n",
        "def eliminar_despues_del_guion_bajo(archivo_entrada,archivo_salida):\n",
        "    with open(archivo_entrada, 'r') as f:\n",
        "        lineas = f.readlines()\n",
        "\n",
        "    # Procesar cada línea del archivo\n",
        "    lineas_modificadas = []\n",
        "    for linea in lineas:\n",
        "        if linea.startswith('>'):  # Solo modificamos las líneas que comienzan con '>'\n",
        "            # Encontrar la posición del primer guion bajo\n",
        "            indice_guion_bajo = linea.find('_')\n",
        "            if indice_guion_bajo != -1:  # Si se encontró el guion bajo\n",
        "                # Mantener solo la parte de la línea antes del guion bajo\n",
        "                linea_modificada = linea[:indice_guion_bajo] + '\\n'\n",
        "            else:\n",
        "                linea_modificada = linea  # Mantener la línea sin cambios si no hay guion bajo\n",
        "        else:\n",
        "            linea_modificada = linea  # Mantener las líneas que no comienzan con '>'\n",
        "        lineas_modificadas.append(linea_modificada)\n",
        "\n",
        "    # Escribir las líneas modificadas en el archivo de salida\n",
        "    with open(archivo_salida, 'w') as f:\n",
        "        f.writelines(lineas_modificadas)\n",
        "\n",
        "# Solicitar al usuario el nombre del archivo de entrada\n",
        "archivo_entrada = \"/content/Seqit.features.OUT\"\n",
        "\n",
        "# Nombre del archivo de salida\n",
        "archivo_salida = \"output_features.txt\"\n",
        "\n",
        "# Llamar a la función para eliminar lo que está después del guion bajo en las secuencias que empiezan por '>'\n",
        "eliminar_despues_del_guion_bajo(archivo_entrada, archivo_salida)\n",
        "\n",
        "print(f\"Se han eliminado las partes después del guion bajo en las secuencias del archivo '{archivo_entrada}' y se ha guardado en '{archivo_salida}'.\")\n",
        "\n"
      ],
      "metadata": {
        "id": "J9fISi93Alwg",
        "colab": {
          "base_uri": "https://localhost:8080/"
        },
        "outputId": "fc721e38-5dc0-46f7-df27-b8614201a60b"
      },
      "execution_count": 8,
      "outputs": [
        {
          "output_type": "stream",
          "name": "stdout",
          "text": [
            "Se han eliminado las partes después del guion bajo en las secuencias del archivo '/content/ModificadoSeqit.fastarREDUCED.OUT' y se ha guardado en 'output_features.txt'.\n"
          ]
        }
      ]
    },
    {
      "cell_type": "code",
      "source": [
        "# este es para añadir lo del seqx_\n",
        "\n",
        "# Leer el archivo original\n",
        "with open('output_features.txt', 'r') as file:\n",
        "    lines = file.readlines()\n",
        "\n",
        "# Inicializar contador para los identificadores de secuencia\n",
        "seq_counter = 1\n",
        "\n",
        "# Modificar los identificadores de secuencia y guardar el archivo modificado\n",
        "with open('output_features_final.txt', 'w') as file:\n",
        "    for line in lines:\n",
        "        if line.startswith('>Feature'):\n",
        "            seq_id = line.strip().split()[1]  # Extraer el ID de secuencia\n",
        "            modified_id = '>Feature Seq{}_{}'.format(seq_counter, seq_id)  # Modificar el ID de secuencia\n",
        "            file.write(modified_id + '\\n')  # Escribir el ID de secuencia modificado en el nuevo archivo\n",
        "            seq_counter += 1  # Incrementar el contador de secuencia\n",
        "        else:\n",
        "            file.write(line)  # Mantener el resto del contenido sin cambios"
      ],
      "metadata": {
        "id": "K8-2wdBDA4yG"
      },
      "execution_count": 6,
      "outputs": []
    },
    {
      "cell_type": "markdown",
      "source": [
        "## FASTA\n",
        "\n"
      ],
      "metadata": {
        "id": "ZkWwVRmQCN78"
      }
    },
    {
      "cell_type": "code",
      "source": [
        "###### añadir seq1\n",
        "# Reemplaza 'input_file.txt' con el nombre de tu archivo de entrada y 'output_file.txt' con el nombre deseado para el archivo de salida.\n",
        "input_file_path = '/content/Seqit.fasta.OUT'\n",
        "output_file_path = 'output_fasta.txt'\n",
        "\n",
        "def process_line(line, seq_number):\n",
        "    # Verifica si la línea comienza con '>'\n",
        "    if line.startswith('>'):\n",
        "        # Extrae la información antes del primer espacio para construir la nueva línea\n",
        "        info = line[1:].split(' ', 1)\n",
        "        new_line = f\">Seq{seq_number}_{info[0]} {info[1]}\"\n",
        "        # Incrementa el número de secuencia solo cuando procesas una línea que comienza con '>'\n",
        "        seq_number += 1\n",
        "        return new_line, seq_number\n",
        "    else:\n",
        "        return line, seq_number\n",
        "\n",
        "# Inicializa el contador para el número de secuencia\n",
        "seq_number = 1\n",
        "\n",
        "with open(input_file_path, 'r') as input_file, open(output_file_path, 'w') as output_file:\n",
        "    for line in input_file:\n",
        "        # Procesa cada línea y escribe en el archivo de salida\n",
        "        processed_line, seq_number = process_line(line.strip(), seq_number)\n",
        "        output_file.write(processed_line + '\\n')\n"
      ],
      "metadata": {
        "id": "KMifniLHCSpr"
      },
      "execution_count": 9,
      "outputs": []
    },
    {
      "cell_type": "code",
      "source": [
        "################### eliminar genero\n",
        "# Define a function to modify the header by removing specified content\n",
        "def modify_header(header):\n",
        "    # Find the indices of the second underscore and the first '['\n",
        "    underscore_index = header.find('_', header.find('_') + 1)\n",
        "    bracket_index = header.find('[')\n",
        "\n",
        "    # If both indices are found, remove the specified content\n",
        "    if underscore_index != -1 and bracket_index != -1:\n",
        "        modified_header = header[:underscore_index] + \" \" + header[bracket_index:]\n",
        "        return modified_header.strip()\n",
        "\n",
        "    # If either index is not found, return the original header\n",
        "    return header.strip()\n",
        "\n",
        "# Open the input file for reading\n",
        "with open('output_fasta.txt', 'r') as input_file: # nombre input\n",
        "    # Open a new output file for writing\n",
        "    with open('outputesp_fasta.txt', 'w') as output_file: # nombre output\n",
        "        for line in input_file:\n",
        "            if line.startswith('>'):\n",
        "                # Modify the header line\n",
        "                modified_header = modify_header(line)\n",
        "                output_file.write(f\"{modified_header}\\n\")\n",
        "            else:\n",
        "                # Write the sequence lines as they are\n",
        "                output_file.write(line)\n"
      ],
      "metadata": {
        "id": "xwwRBJn4CTbU"
      },
      "execution_count": 10,
      "outputs": []
    },
    {
      "cell_type": "markdown",
      "source": [
        "# MODIFIERS\n"
      ],
      "metadata": {
        "id": "NIZHGKfEuH92"
      }
    },
    {
      "cell_type": "code",
      "source": [
        "############ ELIMINAR NOMBRE SECUENCIA\n",
        "# Abrir el archivo de texto\n",
        "archivo.txt = \"/content/Seqit.modifiers.OUT\"\n",
        "with open('/content/Seqit.modifiers.OUT', 'r') as file:\n",
        "    # Leer todas las líneas del archivo\n",
        "    lines = file.readlines()\n",
        "\n",
        "# Iterar sobre cada línea y eliminar lo que está después del primer guion bajo en la columna 'Sequence_ID'\n",
        "for i in range(1, len(lines)):  # Empezamos desde 1 para evitar procesar la primera línea de encabezado\n",
        "    # Dividir la línea en columnas usando el separador de tabulación ('\\t')\n",
        "    columns = lines[i].split('\\t')\n",
        "    # Dividir la primera columna (Sequence_ID) en dos partes usando el guion bajo como delimitador y tomar solo la primera parte\n",
        "    sequence_id_parts = columns[0].split('_')\n",
        "    columns[0] = sequence_id_parts[0]  # Tomar solo la primera parte\n",
        "    # Unir las columnas de nuevo en una línea y reemplazar la línea original\n",
        "    lines[i] = '\\t'.join(columns)\n",
        "\n",
        "# Escribir las líneas actualizadas en el archivo\n",
        "with open('modifiers_actualizado.txt', 'w') as file:\n",
        "    file.writelines(lines)\n"
      ],
      "metadata": {
        "id": "PwN4UhrvuJrF"
      },
      "execution_count": null,
      "outputs": []
    },
    {
      "cell_type": "code",
      "source": [
        "########## AÑADIR SEQX_\n",
        "def add_prefix(input_file, output_file):\n",
        "    with open(input_file, 'r') as f_input:\n",
        "        lines = f_input.readlines()\n",
        "\n",
        "    with open(output_file, 'w') as f_output:\n",
        "        for idx, line in enumerate(lines):\n",
        "            parts = line.strip().split('\\t')\n",
        "            parts[0] = f'Seq{idx}_{parts[0]}'\n",
        "            new_line = '\\t'.join(parts) + '\\n'\n",
        "            f_output.write(new_line)\n",
        "\n",
        "if __name__ == \"__main__\":\n",
        "    input_file = \"/content/modifiers_actualizado.txt\"\n",
        "    output_file = \"modifiers_final_actualizado.txt\"\n",
        "    add_prefix(input_file, output_file)\n",
        "\n",
        "############## BORRAR EL SEQ0_ QUE GENERA EN EL ENCABEZADO"
      ],
      "metadata": {
        "id": "lUsz65JavZHG"
      },
      "execution_count": null,
      "outputs": []
    }
  ]
}