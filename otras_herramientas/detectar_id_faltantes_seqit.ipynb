{
  "cells": [
    {
      "cell_type": "code",
      "execution_count": 1,
      "metadata": {
        "colab": {
          "base_uri": "https://localhost:8080/"
        },
        "id": "d-99RSjOe30F",
        "outputId": "93ada893-496a-4b35-cd85-adbf47f36774"
      },
      "outputs": [
        {
          "output_type": "stream",
          "name": "stdout",
          "text": [
            "¡Los identificadores se han guardado en 'identificadores.txt'!\n"
          ]
        }
      ],
      "source": [
        "### txt con identificadores de modifiers\n",
        "def get_identifiers_from_file(filename):\n",
        "    identifiers = []\n",
        "    with open(filename, 'r') as file:\n",
        "        for line in file:\n",
        "            # Dividir la línea en campos separados por tabuladores\n",
        "            fields = line.strip().split('\\t')\n",
        "            # La primera parte de la línea es el identificador\n",
        "            identifier = fields[0]\n",
        "            identifiers.append(identifier)\n",
        "    return identifiers\n",
        "\n",
        "def write_identifiers_to_file(identifiers, output_filename):\n",
        "    with open(output_filename, 'w') as file:\n",
        "        for identifier in identifiers:\n",
        "            file.write(f\"{identifier}\\n\")\n",
        "\n",
        "# Nombres de los archivos de entrada y salida\n",
        "input_filename = \"/content/MODIFIERS_DEFINITIVO_227.txt\"\n",
        "output_filename = \"modifiers_id.txt\"\n",
        "\n",
        "# Obtener los identificadores del archivo de entrada\n",
        "identifiers = get_identifiers_from_file(input_filename)\n",
        "# Escribir los identificadores en el archivo de salida\n",
        "write_identifiers_to_file(identifiers, output_filename)\n",
        "\n",
        "print(\"¡Los identificadores se han guardado en 'identificadores.txt'!\")\n"
      ]
    },
    {
      "cell_type": "code",
      "execution_count": 2,
      "metadata": {
        "colab": {
          "base_uri": "https://localhost:8080/"
        },
        "id": "XYIZ0fP8fUcS",
        "outputId": "cef1c31c-5548-4a43-c6bf-428d0f441a60"
      },
      "outputs": [
        {
          "output_type": "stream",
          "name": "stdout",
          "text": [
            "Los nombres de las características se han guardado en '4feature_id.txt'.\n"
          ]
        }
      ],
      "source": [
        "### txt con identificadores de features\n",
        "def get_feature_details_from_file(filename):\n",
        "    features = []\n",
        "    with open(filename, 'r') as file:\n",
        "        for line in file:\n",
        "            if line.startswith('>Feature'):\n",
        "                feature = line.split()[1]\n",
        "                features.append(feature)\n",
        "    return features\n",
        "\n",
        "def write_features_to_file(features, output_filename):\n",
        "    with open(output_filename, 'w') as file:\n",
        "        for feature in features:\n",
        "            file.write(f\"{feature}\\n\")\n",
        "\n",
        "# Ejemplo de uso:\n",
        "feature_details = get_feature_details_from_file(\"/content/FEATURES_DEFINITIVO_227.txt\")\n",
        "output_filename = \"feature_id.txt\"\n",
        "write_features_to_file(feature_details, output_filename)\n",
        "print(f\"Los nombres de las características se han guardado en '{output_filename}'.\")\n"
      ]
    },
    {
      "cell_type": "code",
      "execution_count": 4,
      "metadata": {
        "colab": {
          "base_uri": "https://localhost:8080/"
        },
        "id": "uPCkRJBBffVJ",
        "outputId": "603de6fb-c81d-4c07-ccb1-a6d23882ab57"
      },
      "outputs": [
        {
          "output_type": "stream",
          "name": "stdout",
          "text": [
            "Los identificadores se han guardado en 'fasta_id.txt'.\n"
          ]
        }
      ],
      "source": [
        "### txt con identificadores de fasta\n",
        "def get_identifiers_from_file(filename):\n",
        "    identifiers = []\n",
        "    with open(filename, 'r') as file:\n",
        "        for line in file:\n",
        "            if line.startswith('>'):\n",
        "                identifier = line.split()[0][1:].split('[')[0]\n",
        "                identifiers.append(identifier)\n",
        "    return identifiers\n",
        "\n",
        "def write_identifiers_to_file(identifiers, output_filename):\n",
        "    with open(output_filename, 'w') as file:\n",
        "        for identifier in identifiers:\n",
        "            file.write(f\"{identifier}\\n\")\n",
        "\n",
        "# Ejemplo de uso:\n",
        "identifiers = get_identifiers_from_file(\"/content/FASTA_DEFINITIVO_227.txt\")\n",
        "output_filename = \"fasta_id.txt\"\n",
        "write_identifiers_to_file(identifiers, output_filename)\n",
        "print(f\"Los identificadores se han guardado en '{output_filename}'.\")\n"
      ]
    },
    {
      "cell_type": "code",
      "execution_count": 6,
      "metadata": {
        "colab": {
          "base_uri": "https://localhost:8080/"
        },
        "id": "MPypNeZWnHl9",
        "outputId": "a66d3ec3-c2d8-4f1a-e4e2-ff92230e4fc6"
      },
      "outputs": [
        {
          "output_type": "stream",
          "name": "stdout",
          "text": [
            "Procesamiento completado. Se han generado archivos modificados.\n"
          ]
        }
      ],
      "source": [
        "######### quedarse con lo que hay despues del primer \"_\"\n",
        "def process_file(filename):\n",
        "    processed_lines = []\n",
        "    with open(filename, 'r') as file:\n",
        "        for line in file:\n",
        "            # Busca el índice del primer guion bajo (_) en la línea\n",
        "            index = line.find('_')\n",
        "            if index != -1:\n",
        "                # Conserva solo la parte después del primer guion bajo (_)\n",
        "                processed_lines.append(line[index + 1:].strip())\n",
        "    return processed_lines\n",
        "\n",
        "# Nombres de los archivos de texto de entrada y salida\n",
        "file_names = [\"/content/fasta_id.txt\", \"/content/4feature_id.txt\"]\n",
        "output_file_names = [\"fasta_sin_seq.txt\",\"feature_sin_seq.txt\"]\n",
        "\n",
        "# Procesa cada archivo\n",
        "for i, (file_name, output_file_name) in enumerate(zip(file_names, output_file_names), start=1):\n",
        "    processed_data = process_file(file_name)\n",
        "    # Guarda los resultados en un nuevo archivo\n",
        "    with open(output_file_name, 'w') as result_file:\n",
        "        for line in processed_data:\n",
        "            result_file.write(line + '\\n')\n",
        "\n",
        "print(\"Procesamiento completado. Se han generado archivos modificados.\")\n"
      ]
    },
    {
      "cell_type": "code",
      "execution_count": 8,
      "metadata": {
        "id": "vCAJ2njbn06H",
        "colab": {
          "base_uri": "https://localhost:8080/"
        },
        "outputId": "903a1c61-6cf5-4f22-8a30-b374a0d3e3b6"
      },
      "outputs": [
        {
          "output_type": "stream",
          "name": "stdout",
          "text": [
            "Valores faltantes en /content/fasta_sin_seq.txt pero presentes en /content/feature_sin_seq.txt : set()\n",
            "Valores faltantes en /content/feature_sin_seq.txt pero presentes en /content/fasta_sin_seq.txt : {'12761'}\n"
          ]
        }
      ],
      "source": [
        "############ ver que identificadores faltan\n",
        "def read_values_from_file(filename):\n",
        "    \"\"\"Lee los valores de un archivo de texto y los devuelve como un conjunto.\"\"\"\n",
        "    with open(filename, 'r') as file:\n",
        "        values = {line.strip() for line in file}\n",
        "    return values\n",
        "\n",
        "def find_missing_values(file1, file2):\n",
        "    \"\"\"Encuentra los valores que están en un archivo pero no en el otro.\"\"\"\n",
        "    values1 = read_values_from_file(file1)\n",
        "    values2 = read_values_from_file(file2)\n",
        "    missing_in_file1 = values2 - values1\n",
        "    missing_in_file2 = values1 - values2\n",
        "    return missing_in_file1, missing_in_file2\n",
        "\n",
        "# Rutas de los archivos de texto\n",
        "file1 = \"/content/fasta_sin_seq.txt\"\n",
        "file2 = \"/content/feature_sin_seq.txt\"\n",
        "\n",
        "# Encuentra los valores que faltan en cada archivo\n",
        "missing_in_file1, missing_in_file2 = find_missing_values(file1, file2)\n",
        "\n",
        "# Imprime los resultados\n",
        "print(\"Valores faltantes en\", file1, \"pero presentes en\", file2, \":\", missing_in_file1)\n",
        "print(\"Valores faltantes en\", file2, \"pero presentes en\", file1, \":\", missing_in_file2)\n",
        "\n"
      ]
    }
  ],
  "metadata": {
    "colab": {
      "provenance": []
    },
    "kernelspec": {
      "display_name": "Python 3",
      "name": "python3"
    },
    "language_info": {
      "name": "python"
    }
  },
  "nbformat": 4,
  "nbformat_minor": 0
}